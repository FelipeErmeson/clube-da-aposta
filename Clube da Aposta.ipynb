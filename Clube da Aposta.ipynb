{
 "cells": [
  {
   "cell_type": "code",
   "execution_count": 1,
   "metadata": {},
   "outputs": [],
   "source": [
    "#Importação das bibliotecas necessárias\n",
    "import pandas as pd\n",
    "import numpy as np\n",
    "\n",
    "import warnings\n",
    "\n",
    "import matplotlib.pyplot as plt\n",
    "%matplotlib inline\n",
    "import seaborn as sns\n",
    "\n",
    "from sklearn.preprocessing import StandardScaler\n",
    "from sklearn.pipeline import make_pipeline, Pipeline\n",
    "from sklearn.model_selection import GridSearchCV, train_test_split\n",
    "from sklearn.metrics import confusion_matrix, classification_report, accuracy_score\n",
    "\n",
    "from sklearn.svm import SVC\n",
    "from sklearn.ensemble import RandomForestClassifier, GradientBoostingClassifier\n",
    "\n",
    "from pickle import dump, load"
   ]
  },
  {
   "cell_type": "code",
   "execution_count": 2,
   "metadata": {},
   "outputs": [],
   "source": [
    "#Ignorar futuros warnings. Vale ressaltar que eu já rodei sem a presença dessa linha e nenhum warning afeta os resultados\n",
    "warnings.filterwarnings('ignore')"
   ]
  },
  {
   "cell_type": "code",
   "execution_count": 3,
   "metadata": {},
   "outputs": [],
   "source": [
    "#Importando o conjunto de dados\n",
    "df = pd.read_json('teste.json')"
   ]
  },
  {
   "cell_type": "code",
   "execution_count": 4,
   "metadata": {},
   "outputs": [],
   "source": [
    "ordens_coluna = ['home_name', 'away_name', 'home_score', 'away_score', 'final_result',\n",
    "       'time', 'home_pos', 'away_pos', 'round', 'home_last5all_home',\n",
    "       'home_last5all_home_win', 'home_last5all_home_draw',\n",
    "       'home_last5all_home_lose', 'away_last5all_away',\n",
    "       'away_last5all_away_win', 'away_last5all_away_draw',\n",
    "       'away_last5all_away_lose', 'last5all_home_away_dif', 'fifa_home_ova',\n",
    "       'fifa_home_att', 'fifa_home_mid', 'fifa_home_def', 'fifa_away_ova',\n",
    "       'fifa_away_att', 'fifa_away_mid', 'fifa_away_def', 'elo_home_score',\n",
    "       'elo_away_score', 'tfm_value_home', 'tfm_value_away']"
   ]
  },
  {
   "cell_type": "code",
   "execution_count": 5,
   "metadata": {},
   "outputs": [],
   "source": [
    "#Alterando a ordem de colunas do df\n",
    "df = df[ordens_coluna]"
   ]
  },
  {
   "cell_type": "markdown",
   "metadata": {},
   "source": [
    "<h2>Análise Exploratória</h2>\n",
    "<h3>Hipótese</h3>\n",
    "1 - O elenco mais caro ganha mais os jogos (final_result)?<br/>"
   ]
  },
  {
   "cell_type": "code",
   "execution_count": 6,
   "metadata": {},
   "outputs": [
    {
     "data": {
      "text/html": [
       "<div>\n",
       "<style scoped>\n",
       "    .dataframe tbody tr th:only-of-type {\n",
       "        vertical-align: middle;\n",
       "    }\n",
       "\n",
       "    .dataframe tbody tr th {\n",
       "        vertical-align: top;\n",
       "    }\n",
       "\n",
       "    .dataframe thead th {\n",
       "        text-align: right;\n",
       "    }\n",
       "</style>\n",
       "<table border=\"1\" class=\"dataframe\">\n",
       "  <thead>\n",
       "    <tr style=\"text-align: right;\">\n",
       "      <th></th>\n",
       "      <th>home_name</th>\n",
       "      <th>away_name</th>\n",
       "      <th>home_score</th>\n",
       "      <th>away_score</th>\n",
       "      <th>final_result</th>\n",
       "      <th>time</th>\n",
       "      <th>home_pos</th>\n",
       "      <th>away_pos</th>\n",
       "      <th>round</th>\n",
       "      <th>home_last5all_home</th>\n",
       "      <th>...</th>\n",
       "      <th>fifa_home_mid</th>\n",
       "      <th>fifa_home_def</th>\n",
       "      <th>fifa_away_ova</th>\n",
       "      <th>fifa_away_att</th>\n",
       "      <th>fifa_away_mid</th>\n",
       "      <th>fifa_away_def</th>\n",
       "      <th>elo_home_score</th>\n",
       "      <th>elo_away_score</th>\n",
       "      <th>tfm_value_home</th>\n",
       "      <th>tfm_value_away</th>\n",
       "    </tr>\n",
       "  </thead>\n",
       "  <tbody>\n",
       "    <tr>\n",
       "      <th>0</th>\n",
       "      <td>FC Porto</td>\n",
       "      <td>Nacional</td>\n",
       "      <td>3</td>\n",
       "      <td>1</td>\n",
       "      <td>H</td>\n",
       "      <td>1546895700</td>\n",
       "      <td>1</td>\n",
       "      <td>11</td>\n",
       "      <td>16</td>\n",
       "      <td>9</td>\n",
       "      <td>...</td>\n",
       "      <td>81</td>\n",
       "      <td>80</td>\n",
       "      <td>70</td>\n",
       "      <td>70</td>\n",
       "      <td>70</td>\n",
       "      <td>69</td>\n",
       "      <td>1813.906738</td>\n",
       "      <td>1392.986084</td>\n",
       "      <td>2.779800e+08</td>\n",
       "      <td>9450000.0</td>\n",
       "    </tr>\n",
       "    <tr>\n",
       "      <th>1</th>\n",
       "      <td>Tenerife</td>\n",
       "      <td>Elche</td>\n",
       "      <td>2</td>\n",
       "      <td>1</td>\n",
       "      <td>H</td>\n",
       "      <td>1546632000</td>\n",
       "      <td>18</td>\n",
       "      <td>15</td>\n",
       "      <td>20</td>\n",
       "      <td>2</td>\n",
       "      <td>...</td>\n",
       "      <td>71</td>\n",
       "      <td>69</td>\n",
       "      <td>67</td>\n",
       "      <td>69</td>\n",
       "      <td>67</td>\n",
       "      <td>67</td>\n",
       "      <td>1513.179932</td>\n",
       "      <td>1475.512939</td>\n",
       "      <td>1.090000e+07</td>\n",
       "      <td>9600000.0</td>\n",
       "    </tr>\n",
       "    <tr>\n",
       "      <th>10</th>\n",
       "      <td>Man City</td>\n",
       "      <td>Everton</td>\n",
       "      <td>3</td>\n",
       "      <td>1</td>\n",
       "      <td>H</td>\n",
       "      <td>1544877000</td>\n",
       "      <td>2</td>\n",
       "      <td>7</td>\n",
       "      <td>17</td>\n",
       "      <td>16</td>\n",
       "      <td>...</td>\n",
       "      <td>88</td>\n",
       "      <td>83</td>\n",
       "      <td>79</td>\n",
       "      <td>79</td>\n",
       "      <td>80</td>\n",
       "      <td>79</td>\n",
       "      <td>1986.672974</td>\n",
       "      <td>1699.472778</td>\n",
       "      <td>1.090000e+09</td>\n",
       "      <td>426000000.0</td>\n",
       "    </tr>\n",
       "    <tr>\n",
       "      <th>100</th>\n",
       "      <td>Braga</td>\n",
       "      <td>FC Porto</td>\n",
       "      <td>0</td>\n",
       "      <td>1</td>\n",
       "      <td>A</td>\n",
       "      <td>1503861300</td>\n",
       "      <td>6</td>\n",
       "      <td>3</td>\n",
       "      <td>4</td>\n",
       "      <td>3</td>\n",
       "      <td>...</td>\n",
       "      <td>75</td>\n",
       "      <td>74</td>\n",
       "      <td>79</td>\n",
       "      <td>78</td>\n",
       "      <td>79</td>\n",
       "      <td>79</td>\n",
       "      <td>1562.021240</td>\n",
       "      <td>1745.115723</td>\n",
       "      <td>5.740000e+07</td>\n",
       "      <td>177650000.0</td>\n",
       "    </tr>\n",
       "    <tr>\n",
       "      <th>1000</th>\n",
       "      <td>Red Star FC 93</td>\n",
       "      <td>Strasbourg</td>\n",
       "      <td>1</td>\n",
       "      <td>1</td>\n",
       "      <td>D</td>\n",
       "      <td>1487358000</td>\n",
       "      <td>16</td>\n",
       "      <td>6</td>\n",
       "      <td>26</td>\n",
       "      <td>0</td>\n",
       "      <td>...</td>\n",
       "      <td>66</td>\n",
       "      <td>67</td>\n",
       "      <td>66</td>\n",
       "      <td>68</td>\n",
       "      <td>67</td>\n",
       "      <td>66</td>\n",
       "      <td>1407.163086</td>\n",
       "      <td>1422.037231</td>\n",
       "      <td>1.210000e+07</td>\n",
       "      <td>9850000.0</td>\n",
       "    </tr>\n",
       "  </tbody>\n",
       "</table>\n",
       "<p>5 rows × 30 columns</p>\n",
       "</div>"
      ],
      "text/plain": [
       "           home_name   away_name  home_score  away_score final_result  \\\n",
       "0           FC Porto    Nacional           3           1            H   \n",
       "1           Tenerife       Elche           2           1            H   \n",
       "10          Man City     Everton           3           1            H   \n",
       "100            Braga    FC Porto           0           1            A   \n",
       "1000  Red Star FC 93  Strasbourg           1           1            D   \n",
       "\n",
       "            time  home_pos  away_pos  round  home_last5all_home  \\\n",
       "0     1546895700         1        11     16                   9   \n",
       "1     1546632000        18        15     20                   2   \n",
       "10    1544877000         2         7     17                  16   \n",
       "100   1503861300         6         3      4                   3   \n",
       "1000  1487358000        16         6     26                   0   \n",
       "\n",
       "           ...        fifa_home_mid  fifa_home_def  fifa_away_ova  \\\n",
       "0          ...                   81             80             70   \n",
       "1          ...                   71             69             67   \n",
       "10         ...                   88             83             79   \n",
       "100        ...                   75             74             79   \n",
       "1000       ...                   66             67             66   \n",
       "\n",
       "      fifa_away_att  fifa_away_mid  fifa_away_def  elo_home_score  \\\n",
       "0                70             70             69     1813.906738   \n",
       "1                69             67             67     1513.179932   \n",
       "10               79             80             79     1986.672974   \n",
       "100              78             79             79     1562.021240   \n",
       "1000             68             67             66     1407.163086   \n",
       "\n",
       "      elo_away_score  tfm_value_home  tfm_value_away  \n",
       "0        1392.986084    2.779800e+08       9450000.0  \n",
       "1        1475.512939    1.090000e+07       9600000.0  \n",
       "10       1699.472778    1.090000e+09     426000000.0  \n",
       "100      1745.115723    5.740000e+07     177650000.0  \n",
       "1000     1422.037231    1.210000e+07       9850000.0  \n",
       "\n",
       "[5 rows x 30 columns]"
      ]
     },
     "execution_count": 6,
     "metadata": {},
     "output_type": "execute_result"
    }
   ],
   "source": [
    "df.head()"
   ]
  },
  {
   "cell_type": "code",
   "execution_count": 7,
   "metadata": {},
   "outputs": [
    {
     "name": "stdout",
     "output_type": "stream",
     "text": [
      "<class 'pandas.core.frame.DataFrame'>\n",
      "Int64Index: 5163 entries, 0 to 999\n",
      "Data columns (total 30 columns):\n",
      "home_name                  5163 non-null object\n",
      "away_name                  5163 non-null object\n",
      "home_score                 5163 non-null int64\n",
      "away_score                 5163 non-null int64\n",
      "final_result               5163 non-null object\n",
      "time                       5163 non-null int64\n",
      "home_pos                   5163 non-null int64\n",
      "away_pos                   5163 non-null int64\n",
      "round                      5163 non-null int64\n",
      "home_last5all_home         5163 non-null int64\n",
      "home_last5all_home_win     5163 non-null int64\n",
      "home_last5all_home_draw    5163 non-null int64\n",
      "home_last5all_home_lose    5163 non-null int64\n",
      "away_last5all_away         5163 non-null int64\n",
      "away_last5all_away_win     5163 non-null int64\n",
      "away_last5all_away_draw    5163 non-null int64\n",
      "away_last5all_away_lose    5163 non-null int64\n",
      "last5all_home_away_dif     5163 non-null int64\n",
      "fifa_home_ova              5163 non-null int64\n",
      "fifa_home_att              5163 non-null int64\n",
      "fifa_home_mid              5163 non-null int64\n",
      "fifa_home_def              5163 non-null int64\n",
      "fifa_away_ova              5163 non-null int64\n",
      "fifa_away_att              5163 non-null int64\n",
      "fifa_away_mid              5163 non-null int64\n",
      "fifa_away_def              5163 non-null int64\n",
      "elo_home_score             5163 non-null float64\n",
      "elo_away_score             5163 non-null float64\n",
      "tfm_value_home             5163 non-null float64\n",
      "tfm_value_away             5163 non-null float64\n",
      "dtypes: float64(4), int64(23), object(3)\n",
      "memory usage: 1.2+ MB\n"
     ]
    }
   ],
   "source": [
    "df.info()"
   ]
  },
  {
   "cell_type": "code",
   "execution_count": 8,
   "metadata": {},
   "outputs": [
    {
     "data": {
      "text/plain": [
       "tfm_value_away             0\n",
       "tfm_value_home             0\n",
       "away_name                  0\n",
       "home_score                 0\n",
       "away_score                 0\n",
       "final_result               0\n",
       "time                       0\n",
       "home_pos                   0\n",
       "away_pos                   0\n",
       "round                      0\n",
       "home_last5all_home         0\n",
       "home_last5all_home_win     0\n",
       "home_last5all_home_draw    0\n",
       "home_last5all_home_lose    0\n",
       "away_last5all_away         0\n",
       "away_last5all_away_win     0\n",
       "away_last5all_away_draw    0\n",
       "away_last5all_away_lose    0\n",
       "last5all_home_away_dif     0\n",
       "fifa_home_ova              0\n",
       "fifa_home_att              0\n",
       "fifa_home_mid              0\n",
       "fifa_home_def              0\n",
       "fifa_away_ova              0\n",
       "fifa_away_att              0\n",
       "fifa_away_mid              0\n",
       "fifa_away_def              0\n",
       "elo_home_score             0\n",
       "elo_away_score             0\n",
       "home_name                  0\n",
       "dtype: int64"
      ]
     },
     "execution_count": 8,
     "metadata": {},
     "output_type": "execute_result"
    }
   ],
   "source": [
    "#Verificando se existe algum dado ausente\n",
    "df.isnull().sum().sort_values(ascending=False)"
   ]
  },
  {
   "cell_type": "code",
   "execution_count": 9,
   "metadata": {},
   "outputs": [
    {
     "data": {
      "text/plain": [
       "<matplotlib.axes._subplots.AxesSubplot at 0xc78914b630>"
      ]
     },
     "execution_count": 9,
     "metadata": {},
     "output_type": "execute_result"
    },
    {
     "data": {
      "image/png": "[encoded data removed]",
      "text/plain": [
       "<Figure size 432x288 with 1 Axes>"
      ]
     },
     "metadata": {
      "needs_background": "light"
     },
     "output_type": "display_data"
    }
   ],
   "source": [
    "sns.heatmap(df.isna(), yticklabels=False, cbar=False, cmap='Paired')"
   ]
  },
  {
   "cell_type": "code",
   "execution_count": 10,
   "metadata": {},
   "outputs": [
    {
     "data": {
      "text/plain": [
       "H    2306\n",
       "A    1500\n",
       "D    1357\n",
       "Name: final_result, dtype: int64"
      ]
     },
     "execution_count": 10,
     "metadata": {},
     "output_type": "execute_result"
    }
   ],
   "source": [
    "#Verificando quantos exemplos há no dataset da classe alvo\n",
    "df['final_result'].value_counts()"
   ]
  },
  {
   "cell_type": "code",
   "execution_count": 11,
   "metadata": {},
   "outputs": [
    {
     "data": {
      "text/plain": [
       "<seaborn.axisgrid.FacetGrid at 0xc78912b080>"
      ]
     },
     "execution_count": 11,
     "metadata": {},
     "output_type": "execute_result"
    },
    {
     "data": {
      "image/png": "[encoded data removed]",
      "text/plain": [
       "<Figure size 360x360 with 1 Axes>"
      ]
     },
     "metadata": {
      "needs_background": "light"
     },
     "output_type": "display_data"
    }
   ],
   "source": [
    "sns.catplot('final_result',data=df, kind='count')"
   ]
  },
  {
   "cell_type": "code",
   "execution_count": 12,
   "metadata": {},
   "outputs": [
    {
     "data": {
      "text/plain": [
       "(1472, 30)"
      ]
     },
     "execution_count": 12,
     "metadata": {},
     "output_type": "execute_result"
    }
   ],
   "source": [
    "ds1 = df[(df['tfm_value_home'] > df['tfm_value_away'])]\n",
    "ds1 = ds1[ds1['final_result']==\"H\"]\n",
    "ds1.shape"
   ]
  },
  {
   "cell_type": "code",
   "execution_count": 13,
   "metadata": {},
   "outputs": [
    {
     "data": {
      "text/plain": [
       "(1027, 30)"
      ]
     },
     "execution_count": 13,
     "metadata": {},
     "output_type": "execute_result"
    }
   ],
   "source": [
    "ds2 = df[(df['tfm_value_home'] < df['tfm_value_away'])]\n",
    "ds2 = ds2[ds2['final_result']==\"A\"]\n",
    "ds2.shape"
   ]
  },
  {
   "cell_type": "code",
   "execution_count": 14,
   "metadata": {},
   "outputs": [
    {
     "data": {
      "text/plain": [
       "(470, 30)"
      ]
     },
     "execution_count": 14,
     "metadata": {},
     "output_type": "execute_result"
    }
   ],
   "source": [
    "ds3 = df[(df['tfm_value_home'] > df['tfm_value_away'])]\n",
    "ds3 = ds3[ds3['final_result']==\"A\"]\n",
    "ds3.shape"
   ]
  },
  {
   "cell_type": "code",
   "execution_count": 15,
   "metadata": {},
   "outputs": [
    {
     "data": {
      "text/plain": [
       "(831, 30)"
      ]
     },
     "execution_count": 15,
     "metadata": {},
     "output_type": "execute_result"
    }
   ],
   "source": [
    "ds4 = df[(df['tfm_value_home'] < df['tfm_value_away'])]\n",
    "ds4 = ds4[ds4['final_result']==\"H\"]\n",
    "ds4.shape"
   ]
  },
  {
   "cell_type": "code",
   "execution_count": 16,
   "metadata": {},
   "outputs": [
    {
     "data": {
      "text/plain": [
       "<matplotlib.axes._subplots.AxesSubplot at 0xc78911ceb8>"
      ]
     },
     "execution_count": 16,
     "metadata": {},
     "output_type": "execute_result"
    },
    {
     "data": {
      "image/png": "[encoded data removed]",
      "text/plain": [
       "<Figure size 432x288 with 1 Axes>"
      ]
     },
     "metadata": {
      "needs_background": "light"
     },
     "output_type": "display_data"
    }
   ],
   "source": [
    "conj = {'valor_mercado': ['Maior valor de mercado', 'Menor valor de mercado'], 'quantidade': [ds1.shape[0] + ds2.shape[0], ds3.shape[0] + ds4.shape[0]]}\n",
    "dfH1 = pd.DataFrame(conj, columns=['valor_mercado', 'quantidade'])\n",
    "sns.barplot(x='valor_mercado', y='quantidade', data=dfH1)"
   ]
  },
  {
   "cell_type": "markdown",
   "metadata": {},
   "source": [
    "<h2>Criação do Modelo</h2>"
   ]
  },
  {
   "cell_type": "markdown",
   "metadata": {},
   "source": [
    "Primeira Versão de Features<br/>"
   ]
  },
  {
   "cell_type": "code",
   "execution_count": 17,
   "metadata": {},
   "outputs": [],
   "source": [
    "X = df.drop(['home_name', 'away_name', 'home_score', 'away_score', 'time', 'final_result'], inplace=False, axis=1)\n",
    "y = df['final_result']\n",
    "X_train, X_test, y_train, y_test = train_test_split(X, y, test_size=0.3, random_state=123)"
   ]
  },
  {
   "cell_type": "markdown",
   "metadata": {},
   "source": [
    "<h5>Gradient Boosting</h5>"
   ]
  },
  {
   "cell_type": "code",
   "execution_count": 18,
   "metadata": {},
   "outputs": [],
   "source": [
    "pipe = Pipeline(steps= [(\"standardscaler\", StandardScaler()),\n",
    "                        (\"gradientboostingclassifier\", GradientBoostingClassifier())\n",
    "                       ])"
   ]
  },
  {
   "cell_type": "code",
   "execution_count": 19,
   "metadata": {},
   "outputs": [],
   "source": [
    "param_grid_GB = {\n",
    "    \"gradientboostingclassifier__learning_rate\": [0.0001, 0.1, 0.2],\n",
    "    \"gradientboostingclassifier__max_depth\":[3, 5],\n",
    "    \"gradientboostingclassifier__max_features\":[\"log2\",\"sqrt\"],\n",
    "    \"gradientboostingclassifier__n_estimators\":[10, 100, 300]\n",
    "    }"
   ]
  },
  {
   "cell_type": "code",
   "execution_count": 20,
   "metadata": {},
   "outputs": [],
   "source": [
    "grid = GridSearchCV(pipe, param_grid=param_grid_GB, scoring=\"accuracy\", iid=False, refit=True, cv=5, return_train_score=False)"
   ]
  },
  {
   "cell_type": "code",
   "execution_count": 21,
   "metadata": {},
   "outputs": [
    {
     "data": {
      "text/plain": [
       "GridSearchCV(cv=5, error_score='raise-deprecating',\n",
       "       estimator=Pipeline(memory=None,\n",
       "     steps=[('standardscaler', StandardScaler(copy=True, with_mean=True, with_std=True)), ('gradientboostingclassifier', GradientBoostingClassifier(criterion='friedman_mse', init=None,\n",
       "              learning_rate=0.1, loss='deviance', max_depth=3,\n",
       "              max_features=None, max_leaf_nodes=None,\n",
       "   ...    subsample=1.0, tol=0.0001, validation_fraction=0.1,\n",
       "              verbose=0, warm_start=False))]),\n",
       "       fit_params=None, iid=False, n_jobs=None,\n",
       "       param_grid={'gradientboostingclassifier__learning_rate': [0.0001, 0.1, 0.2], 'gradientboostingclassifier__max_depth': [3, 5], 'gradientboostingclassifier__max_features': ['log2', 'sqrt'], 'gradientboostingclassifier__n_estimators': [10, 100, 300]},\n",
       "       pre_dispatch='2*n_jobs', refit=True, return_train_score=False,\n",
       "       scoring='accuracy', verbose=0)"
      ]
     },
     "execution_count": 21,
     "metadata": {},
     "output_type": "execute_result"
    }
   ],
   "source": [
    "grid.fit(X,y)"
   ]
  },
  {
   "cell_type": "code",
   "execution_count": 22,
   "metadata": {},
   "outputs": [
    {
     "name": "stdout",
     "output_type": "stream",
     "text": [
      "Pipeline(memory=None,\n",
      "     steps=[('standardscaler', StandardScaler(copy=True, with_mean=True, with_std=True)), ('gradientboostingclassifier', GradientBoostingClassifier(criterion='friedman_mse', init=None,\n",
      "              learning_rate=0.1, loss='deviance', max_depth=5,\n",
      "              max_features='sqrt', max_leaf_nodes=None,\n",
      " ...    subsample=1.0, tol=0.0001, validation_fraction=0.1,\n",
      "              verbose=0, warm_start=False))])\n",
      "{'gradientboostingclassifier__learning_rate': 0.1, 'gradientboostingclassifier__max_depth': 5, 'gradientboostingclassifier__max_features': 'sqrt', 'gradientboostingclassifier__n_estimators': 10}\n",
      "0.5097796075293725\n"
     ]
    }
   ],
   "source": [
    "print(grid.best_estimator_)\n",
    "print(grid.best_params_)\n",
    "print(grid.best_score_)"
   ]
  },
  {
   "cell_type": "markdown",
   "metadata": {},
   "source": [
    "<h5>Random Forest</h5>"
   ]
  },
  {
   "cell_type": "code",
   "execution_count": 23,
   "metadata": {},
   "outputs": [],
   "source": [
    "pipeRF = Pipeline(steps= [(\"standardscaler\", StandardScaler()),\n",
    "                        (\"randomforestclassifier\", RandomForestClassifier())\n",
    "                       ])"
   ]
  },
  {
   "cell_type": "code",
   "execution_count": 24,
   "metadata": {},
   "outputs": [],
   "source": [
    "param_grid_RF = { \n",
    "    'randomforestclassifier__n_estimators': [10, 100, 500],\n",
    "    'randomforestclassifier__max_features': ['sqrt', 'log2'],\n",
    "    'randomforestclassifier__max_depth' : [4, 8],\n",
    "    'randomforestclassifier__min_samples_split': [2, 8],\n",
    "    'randomforestclassifier__min_samples_leaf': [1, 5]\n",
    "}"
   ]
  },
  {
   "cell_type": "code",
   "execution_count": 25,
   "metadata": {},
   "outputs": [],
   "source": [
    "gridRF = GridSearchCV(pipeRF, param_grid=param_grid_RF, scoring='accuracy', iid=False, refit=True, cv=5, return_train_score=False)"
   ]
  },
  {
   "cell_type": "code",
   "execution_count": 26,
   "metadata": {},
   "outputs": [
    {
     "data": {
      "text/plain": [
       "GridSearchCV(cv=5, error_score='raise-deprecating',\n",
       "       estimator=Pipeline(memory=None,\n",
       "     steps=[('standardscaler', StandardScaler(copy=True, with_mean=True, with_std=True)), ('randomforestclassifier', RandomForestClassifier(bootstrap=True, class_weight=None, criterion='gini',\n",
       "            max_depth=None, max_features='auto', max_leaf_nodes=None,\n",
       "            min_impurity_decrease=0.0, min...obs=None,\n",
       "            oob_score=False, random_state=None, verbose=0,\n",
       "            warm_start=False))]),\n",
       "       fit_params=None, iid=False, n_jobs=None,\n",
       "       param_grid={'randomforestclassifier__n_estimators': [10, 100, 500], 'randomforestclassifier__max_features': ['sqrt', 'log2'], 'randomforestclassifier__max_depth': [4, 8], 'randomforestclassifier__min_samples_split': [2, 8], 'randomforestclassifier__min_samples_leaf': [1, 5]},\n",
       "       pre_dispatch='2*n_jobs', refit=True, return_train_score=False,\n",
       "       scoring='accuracy', verbose=0)"
      ]
     },
     "execution_count": 26,
     "metadata": {},
     "output_type": "execute_result"
    }
   ],
   "source": [
    "gridRF.fit(X,y)"
   ]
  },
  {
   "cell_type": "code",
   "execution_count": 27,
   "metadata": {},
   "outputs": [
    {
     "data": {
      "text/plain": [
       "(make_scorer(accuracy_score), Pipeline(memory=None,\n",
       "      steps=[('standardscaler', StandardScaler(copy=True, with_mean=True, with_std=True)), ('randomforestclassifier', RandomForestClassifier(bootstrap=True, class_weight=None, criterion='gini',\n",
       "             max_depth=8, max_features='log2', max_leaf_nodes=None,\n",
       "             min_impurity_decrease=0.0, min_im...obs=None,\n",
       "             oob_score=False, random_state=None, verbose=0,\n",
       "             warm_start=False))]), {'randomforestclassifier__max_depth': 8,\n",
       "  'randomforestclassifier__max_features': 'log2',\n",
       "  'randomforestclassifier__min_samples_leaf': 5,\n",
       "  'randomforestclassifier__min_samples_split': 2,\n",
       "  'randomforestclassifier__n_estimators': 500}, 0.5136536997218141)"
      ]
     },
     "execution_count": 27,
     "metadata": {},
     "output_type": "execute_result"
    }
   ],
   "source": [
    "gridRF.scorer_, gridRF.best_estimator_, gridRF.best_params_, gridRF.best_score_"
   ]
  },
  {
   "cell_type": "code",
   "execution_count": 28,
   "metadata": {},
   "outputs": [],
   "source": [
    "standard_scaler = StandardScaler()\n",
    "X_train_std = standard_scaler.fit_transform(X_train)\n",
    "X_test_std = standard_scaler.transform(X_test)"
   ]
  },
  {
   "cell_type": "code",
   "execution_count": 29,
   "metadata": {},
   "outputs": [
    {
     "data": {
      "text/plain": [
       "RandomForestClassifier(bootstrap=True, class_weight=None, criterion='gini',\n",
       "            max_depth=None, max_features='auto', max_leaf_nodes=None,\n",
       "            min_impurity_decrease=0.0, min_impurity_split=None,\n",
       "            min_samples_leaf=1, min_samples_split=2,\n",
       "            min_weight_fraction_leaf=0.0, n_estimators=500, n_jobs=None,\n",
       "            oob_score=False, random_state=None, verbose=0,\n",
       "            warm_start=False)"
      ]
     },
     "execution_count": 29,
     "metadata": {},
     "output_type": "execute_result"
    }
   ],
   "source": [
    "rf = RandomForestClassifier(n_estimators=500)\n",
    "rf.fit(X_train_std, y_train)"
   ]
  },
  {
   "cell_type": "code",
   "execution_count": 30,
   "metadata": {},
   "outputs": [],
   "source": [
    "predRF = rf.predict(X_test_std)"
   ]
  },
  {
   "cell_type": "code",
   "execution_count": 31,
   "metadata": {},
   "outputs": [
    {
     "name": "stdout",
     "output_type": "stream",
     "text": [
      "[[166  47 251]\n",
      " [ 95  43 279]\n",
      " [ 84  53 531]]\n",
      "              precision    recall  f1-score   support\n",
      "\n",
      "           A       0.48      0.36      0.41       464\n",
      "           D       0.30      0.10      0.15       417\n",
      "           H       0.50      0.79      0.61       668\n",
      "\n",
      "   micro avg       0.48      0.48      0.48      1549\n",
      "   macro avg       0.43      0.42      0.39      1549\n",
      "weighted avg       0.44      0.48      0.43      1549\n",
      "\n",
      "0.4777275661717237\n"
     ]
    }
   ],
   "source": [
    "print(confusion_matrix(y_test, predRF))\n",
    "print(classification_report(y_test, predRF))\n",
    "print(accuracy_score(y_test, predRF))"
   ]
  },
  {
   "cell_type": "code",
   "execution_count": 32,
   "metadata": {},
   "outputs": [],
   "source": [
    "# Verifica a importância de cada variável no modelo\n",
    "fName = pd.DataFrame(X.columns, columns=['Feature'])\n",
    "fImp = pd.DataFrame(rf.feature_importances_, columns=['Importance'])\n",
    "dfFI = pd.concat([fName, fImp], axis=1)"
   ]
  },
  {
   "cell_type": "code",
   "execution_count": 33,
   "metadata": {},
   "outputs": [
    {
     "data": {
      "text/html": [
       "<div>\n",
       "<style scoped>\n",
       "    .dataframe tbody tr th:only-of-type {\n",
       "        vertical-align: middle;\n",
       "    }\n",
       "\n",
       "    .dataframe tbody tr th {\n",
       "        vertical-align: top;\n",
       "    }\n",
       "\n",
       "    .dataframe thead th {\n",
       "        text-align: right;\n",
       "    }\n",
       "</style>\n",
       "<table border=\"1\" class=\"dataframe\">\n",
       "  <thead>\n",
       "    <tr style=\"text-align: right;\">\n",
       "      <th></th>\n",
       "      <th>Feature</th>\n",
       "      <th>Importance</th>\n",
       "    </tr>\n",
       "  </thead>\n",
       "  <tbody>\n",
       "    <tr>\n",
       "      <th>21</th>\n",
       "      <td>elo_away_score</td>\n",
       "      <td>0.074450</td>\n",
       "    </tr>\n",
       "    <tr>\n",
       "      <th>20</th>\n",
       "      <td>elo_home_score</td>\n",
       "      <td>0.071911</td>\n",
       "    </tr>\n",
       "    <tr>\n",
       "      <th>23</th>\n",
       "      <td>tfm_value_away</td>\n",
       "      <td>0.065403</td>\n",
       "    </tr>\n",
       "    <tr>\n",
       "      <th>22</th>\n",
       "      <td>tfm_value_home</td>\n",
       "      <td>0.065318</td>\n",
       "    </tr>\n",
       "    <tr>\n",
       "      <th>2</th>\n",
       "      <td>round</td>\n",
       "      <td>0.056260</td>\n",
       "    </tr>\n",
       "    <tr>\n",
       "      <th>0</th>\n",
       "      <td>home_pos</td>\n",
       "      <td>0.049481</td>\n",
       "    </tr>\n",
       "    <tr>\n",
       "      <th>1</th>\n",
       "      <td>away_pos</td>\n",
       "      <td>0.048713</td>\n",
       "    </tr>\n",
       "    <tr>\n",
       "      <th>11</th>\n",
       "      <td>last5all_home_away_dif</td>\n",
       "      <td>0.047333</td>\n",
       "    </tr>\n",
       "    <tr>\n",
       "      <th>7</th>\n",
       "      <td>away_last5all_away</td>\n",
       "      <td>0.043882</td>\n",
       "    </tr>\n",
       "    <tr>\n",
       "      <th>3</th>\n",
       "      <td>home_last5all_home</td>\n",
       "      <td>0.043132</td>\n",
       "    </tr>\n",
       "    <tr>\n",
       "      <th>13</th>\n",
       "      <td>fifa_home_att</td>\n",
       "      <td>0.041260</td>\n",
       "    </tr>\n",
       "    <tr>\n",
       "      <th>17</th>\n",
       "      <td>fifa_away_att</td>\n",
       "      <td>0.040300</td>\n",
       "    </tr>\n",
       "    <tr>\n",
       "      <th>14</th>\n",
       "      <td>fifa_home_mid</td>\n",
       "      <td>0.039271</td>\n",
       "    </tr>\n",
       "    <tr>\n",
       "      <th>18</th>\n",
       "      <td>fifa_away_mid</td>\n",
       "      <td>0.038987</td>\n",
       "    </tr>\n",
       "    <tr>\n",
       "      <th>19</th>\n",
       "      <td>fifa_away_def</td>\n",
       "      <td>0.037927</td>\n",
       "    </tr>\n",
       "    <tr>\n",
       "      <th>15</th>\n",
       "      <td>fifa_home_def</td>\n",
       "      <td>0.036825</td>\n",
       "    </tr>\n",
       "    <tr>\n",
       "      <th>16</th>\n",
       "      <td>fifa_away_ova</td>\n",
       "      <td>0.034238</td>\n",
       "    </tr>\n",
       "    <tr>\n",
       "      <th>12</th>\n",
       "      <td>fifa_home_ova</td>\n",
       "      <td>0.032972</td>\n",
       "    </tr>\n",
       "    <tr>\n",
       "      <th>4</th>\n",
       "      <td>home_last5all_home_win</td>\n",
       "      <td>0.023221</td>\n",
       "    </tr>\n",
       "    <tr>\n",
       "      <th>10</th>\n",
       "      <td>away_last5all_away_lose</td>\n",
       "      <td>0.022645</td>\n",
       "    </tr>\n",
       "    <tr>\n",
       "      <th>9</th>\n",
       "      <td>away_last5all_away_draw</td>\n",
       "      <td>0.022451</td>\n",
       "    </tr>\n",
       "    <tr>\n",
       "      <th>5</th>\n",
       "      <td>home_last5all_home_draw</td>\n",
       "      <td>0.022297</td>\n",
       "    </tr>\n",
       "    <tr>\n",
       "      <th>8</th>\n",
       "      <td>away_last5all_away_win</td>\n",
       "      <td>0.021126</td>\n",
       "    </tr>\n",
       "    <tr>\n",
       "      <th>6</th>\n",
       "      <td>home_last5all_home_lose</td>\n",
       "      <td>0.020597</td>\n",
       "    </tr>\n",
       "  </tbody>\n",
       "</table>\n",
       "</div>"
      ],
      "text/plain": [
       "                    Feature  Importance\n",
       "21           elo_away_score    0.074450\n",
       "20           elo_home_score    0.071911\n",
       "23           tfm_value_away    0.065403\n",
       "22           tfm_value_home    0.065318\n",
       "2                     round    0.056260\n",
       "0                  home_pos    0.049481\n",
       "1                  away_pos    0.048713\n",
       "11   last5all_home_away_dif    0.047333\n",
       "7        away_last5all_away    0.043882\n",
       "3        home_last5all_home    0.043132\n",
       "13            fifa_home_att    0.041260\n",
       "17            fifa_away_att    0.040300\n",
       "14            fifa_home_mid    0.039271\n",
       "18            fifa_away_mid    0.038987\n",
       "19            fifa_away_def    0.037927\n",
       "15            fifa_home_def    0.036825\n",
       "16            fifa_away_ova    0.034238\n",
       "12            fifa_home_ova    0.032972\n",
       "4    home_last5all_home_win    0.023221\n",
       "10  away_last5all_away_lose    0.022645\n",
       "9   away_last5all_away_draw    0.022451\n",
       "5   home_last5all_home_draw    0.022297\n",
       "8    away_last5all_away_win    0.021126\n",
       "6   home_last5all_home_lose    0.020597"
      ]
     },
     "execution_count": 33,
     "metadata": {},
     "output_type": "execute_result"
    }
   ],
   "source": [
    "dfFI.sort_values('Importance', ascending=False)"
   ]
  },
  {
   "cell_type": "code",
   "execution_count": 34,
   "metadata": {},
   "outputs": [
    {
     "data": {
      "image/png": "[encoded data removed]",
      "text/plain": [
       "<Figure size 432x288 with 1 Axes>"
      ]
     },
     "metadata": {
      "needs_background": "light"
     },
     "output_type": "display_data"
    }
   ],
   "source": [
    "dfIF = dfFI.sort_values('Importance', ascending=False)\n",
    "\n",
    "fIF = dfIF['Feature']\n",
    "iIF = dfIF['Importance']\n",
    "\n",
    "plt.title('Importância dos Atributos')\n",
    "plt.barh(range(len(fIF)), iIF, color='royalblue', align='center')\n",
    "plt.yticks(range(len(fIF)), fIF)\n",
    "plt.show()"
   ]
  },
  {
   "cell_type": "code",
   "execution_count": 35,
   "metadata": {},
   "outputs": [],
   "source": [
    "features = list(dfFI[dfFI['Importance'] < 0.045]['Feature'])\n",
    "features.append('home_name')\n",
    "features.append('away_name')\n",
    "features.append('home_score')\n",
    "features.append('away_score')\n",
    "features.append('time')\n",
    "features.append('final_result')"
   ]
  },
  {
   "cell_type": "markdown",
   "metadata": {},
   "source": [
    "<h6>Pré-processamento</h6>\n",
    "Redução de dimensionalidade, com base nas features mais importantes, escolhido pelo Random Forest<br/>\n",
    "Criação de novas dimensões para verificar se há uma melhora no aprendizado"
   ]
  },
  {
   "cell_type": "code",
   "execution_count": 36,
   "metadata": {},
   "outputs": [],
   "source": [
    "X = df.drop(features, inplace=False, axis=1)\n",
    "X['score_elo_home_away_dif'] = X['elo_home_score'] - X['elo_away_score']\n",
    "X['tfm_value_home_away_dif'] = X['tfm_value_home'] - X['tfm_value_away']\n",
    "y = df['final_result']\n",
    "X_train, X_test, y_train, y_test = train_test_split(X, y, test_size=0.3, random_state=1)"
   ]
  },
  {
   "cell_type": "code",
   "execution_count": 37,
   "metadata": {},
   "outputs": [
    {
     "data": {
      "text/plain": [
       "Index(['home_pos', 'away_pos', 'round', 'last5all_home_away_dif',\n",
       "       'elo_home_score', 'elo_away_score', 'tfm_value_home', 'tfm_value_away',\n",
       "       'score_elo_home_away_dif', 'tfm_value_home_away_dif'],\n",
       "      dtype='object')"
      ]
     },
     "execution_count": 37,
     "metadata": {},
     "output_type": "execute_result"
    }
   ],
   "source": [
    "X.columns"
   ]
  },
  {
   "cell_type": "code",
   "execution_count": 38,
   "metadata": {},
   "outputs": [
    {
     "data": {
      "text/plain": [
       "GridSearchCV(cv=5, error_score='raise-deprecating',\n",
       "       estimator=Pipeline(memory=None,\n",
       "     steps=[('standardscaler', StandardScaler(copy=True, with_mean=True, with_std=True)), ('gradientboostingclassifier', GradientBoostingClassifier(criterion='friedman_mse', init=None,\n",
       "              learning_rate=0.1, loss='deviance', max_depth=3,\n",
       "              max_features=None, max_leaf_nodes=None,\n",
       "   ...    subsample=1.0, tol=0.0001, validation_fraction=0.1,\n",
       "              verbose=0, warm_start=False))]),\n",
       "       fit_params=None, iid=False, n_jobs=None,\n",
       "       param_grid={'gradientboostingclassifier__learning_rate': [0.0001, 0.1, 0.2], 'gradientboostingclassifier__max_depth': [3, 5], 'gradientboostingclassifier__max_features': ['log2', 'sqrt'], 'gradientboostingclassifier__n_estimators': [10, 100, 300]},\n",
       "       pre_dispatch='2*n_jobs', refit=True, return_train_score=False,\n",
       "       scoring='accuracy', verbose=0)"
      ]
     },
     "execution_count": 38,
     "metadata": {},
     "output_type": "execute_result"
    }
   ],
   "source": [
    "grid.fit(X,y)"
   ]
  },
  {
   "cell_type": "code",
   "execution_count": 39,
   "metadata": {},
   "outputs": [
    {
     "name": "stdout",
     "output_type": "stream",
     "text": [
      "Pipeline(memory=None,\n",
      "     steps=[('standardscaler', StandardScaler(copy=True, with_mean=True, with_std=True)), ('gradientboostingclassifier', GradientBoostingClassifier(criterion='friedman_mse', init=None,\n",
      "              learning_rate=0.2, loss='deviance', max_depth=3,\n",
      "              max_features='log2', max_leaf_nodes=None,\n",
      " ...    subsample=1.0, tol=0.0001, validation_fraction=0.1,\n",
      "              verbose=0, warm_start=False))])\n",
      "{'gradientboostingclassifier__learning_rate': 0.2, 'gradientboostingclassifier__max_depth': 3, 'gradientboostingclassifier__max_features': 'log2', 'gradientboostingclassifier__n_estimators': 10}\n",
      "0.5159781561984855\n"
     ]
    }
   ],
   "source": [
    "print(grid.best_estimator_)\n",
    "print(grid.best_params_)\n",
    "print(grid.best_score_)"
   ]
  },
  {
   "cell_type": "markdown",
   "metadata": {},
   "source": [
    "<h6>Gravar o modelo criado em disco</h6>"
   ]
  },
  {
   "cell_type": "code",
   "execution_count": 40,
   "metadata": {},
   "outputs": [],
   "source": [
    "# Salva o modelo em disco\n",
    "filename = 'modeloGB.sav' \n",
    "dump(grid, open(filename, 'wb'))"
   ]
  },
  {
   "cell_type": "markdown",
   "metadata": {},
   "source": [
    "<h6>SVM</h6>"
   ]
  },
  {
   "cell_type": "code",
   "execution_count": 41,
   "metadata": {},
   "outputs": [],
   "source": [
    "svc = SVC(C=5.0, kernel='rbf', degree=5, probability=True)"
   ]
  },
  {
   "cell_type": "code",
   "execution_count": 42,
   "metadata": {},
   "outputs": [
    {
     "data": {
      "text/plain": [
       "SVC(C=5.0, cache_size=200, class_weight=None, coef0=0.0,\n",
       "  decision_function_shape='ovr', degree=5, gamma='auto_deprecated',\n",
       "  kernel='rbf', max_iter=-1, probability=True, random_state=None,\n",
       "  shrinking=True, tol=0.001, verbose=False)"
      ]
     },
     "execution_count": 42,
     "metadata": {},
     "output_type": "execute_result"
    }
   ],
   "source": [
    "svc.fit(X_train_std, y_train)"
   ]
  },
  {
   "cell_type": "code",
   "execution_count": 43,
   "metadata": {},
   "outputs": [],
   "source": [
    "pred = svc.predict_proba(X_test_std)"
   ]
  },
  {
   "cell_type": "code",
   "execution_count": 44,
   "metadata": {},
   "outputs": [
    {
     "data": {
      "text/plain": [
       "array([[0.29881325, 0.25529595, 0.4458908 ],\n",
       "       [0.29330926, 0.26481083, 0.4418799 ],\n",
       "       [0.29584689, 0.25538871, 0.4487644 ],\n",
       "       ...,\n",
       "       [0.28403515, 0.26098479, 0.45498006],\n",
       "       [0.28884843, 0.26740694, 0.44374463],\n",
       "       [0.2967101 , 0.26045221, 0.44283769]])"
      ]
     },
     "execution_count": 44,
     "metadata": {},
     "output_type": "execute_result"
    }
   ],
   "source": [
    "pred[:]"
   ]
  },
  {
   "cell_type": "code",
   "execution_count": 45,
   "metadata": {},
   "outputs": [
    {
     "data": {
      "text/plain": [
       "array(['A', 'D', 'H'], dtype=object)"
      ]
     },
     "execution_count": 45,
     "metadata": {},
     "output_type": "execute_result"
    }
   ],
   "source": [
    "svc.classes_"
   ]
  },
  {
   "cell_type": "markdown",
   "metadata": {},
   "source": [
    "<h2>Conclusão</h2>\n",
    "* O modelo não conseguiu generalizar os dados (Overfitting)\n",
    "* Não consegue encontrar um padrão nos exemplos de empate \n",
    "* Possíveis soluções:\n",
    "    + Estudar mais o cenário e regra de negócio para criar atributos relevantes\n",
    "    + Capturar mais exemplos de partidas de futebol (principalmente os empates)"
   ]
  }
 ],
 "metadata": {
  "kernelspec": {
   "display_name": "Python 3",
   "language": "python",
   "name": "python3"
  },
  "language_info": {
   "codemirror_mode": {
    "name": "ipython",
    "version": 3
   },
   "file_extension": ".py",
   "mimetype": "text/x-python",
   "name": "python",
   "nbconvert_exporter": "python",
   "pygments_lexer": "ipython3",
   "version": "3.6.4"
  }
 },
 "nbformat": 4,
 "nbformat_minor": 2
}
